{
  "nbformat": 4,
  "nbformat_minor": 0,
  "metadata": {
    "colab": {
      "provenance": []
    },
    "kernelspec": {
      "name": "python3",
      "display_name": "Python 3"
    },
    "language_info": {
      "name": "python"
    },
    "widgets": {
      "application/vnd.jupyter.widget-state+json": {
        "d95422440c9945839f070ca5be11e1e0": {
          "model_module": "@jupyter-widgets/controls",
          "model_name": "VBoxModel",
          "model_module_version": "1.5.0",
          "state": {
            "_dom_classes": [],
            "_model_module": "@jupyter-widgets/controls",
            "_model_module_version": "1.5.0",
            "_model_name": "VBoxModel",
            "_view_count": null,
            "_view_module": "@jupyter-widgets/controls",
            "_view_module_version": "1.5.0",
            "_view_name": "VBoxView",
            "box_style": "",
            "children": [
              "IPY_MODEL_63f9b6b88c994966ba5069fcf5cb1092",
              "IPY_MODEL_85806fa5fba7496d903a8b499b5562e2",
              "IPY_MODEL_c1a6540e80f649019bf1e9ae32213e38",
              "IPY_MODEL_6056e6c25f204de98138b750e92f9aa6",
              "IPY_MODEL_3a58b20f148c415ca2604aee91eeacee"
            ],
            "layout": "IPY_MODEL_3e24cf6c5fdf4259a3dc749e68e639d9"
          }
        },
        "63f9b6b88c994966ba5069fcf5cb1092": {
          "model_module": "@jupyter-widgets/controls",
          "model_name": "HTMLModel",
          "model_module_version": "1.5.0",
          "state": {
            "_dom_classes": [],
            "_model_module": "@jupyter-widgets/controls",
            "_model_module_version": "1.5.0",
            "_model_name": "HTMLModel",
            "_view_count": null,
            "_view_module": "@jupyter-widgets/controls",
            "_view_module_version": "1.5.0",
            "_view_name": "HTMLView",
            "description": "",
            "description_tooltip": null,
            "layout": "IPY_MODEL_5979ea0e1d7743a7b30d2e5b54c4436c",
            "placeholder": "​",
            "style": "IPY_MODEL_0ecf351af9684050a34919823d5b9a8d",
            "value": "<center> <img\nsrc=https://www.kaggle.com/static/images/site-logo.png\nalt='Kaggle'> <br> Create an API token from <a\nhref=\"https://www.kaggle.com/settings/account\" target=\"_blank\">your Kaggle\nsettings page</a> and paste it below along with your Kaggle username. <br> </center>"
          }
        },
        "85806fa5fba7496d903a8b499b5562e2": {
          "model_module": "@jupyter-widgets/controls",
          "model_name": "TextModel",
          "model_module_version": "1.5.0",
          "state": {
            "_dom_classes": [],
            "_model_module": "@jupyter-widgets/controls",
            "_model_module_version": "1.5.0",
            "_model_name": "TextModel",
            "_view_count": null,
            "_view_module": "@jupyter-widgets/controls",
            "_view_module_version": "1.5.0",
            "_view_name": "TextView",
            "continuous_update": true,
            "description": "Username:",
            "description_tooltip": null,
            "disabled": false,
            "layout": "IPY_MODEL_59a626c3415b4988a0c61be22d034a60",
            "placeholder": "​",
            "style": "IPY_MODEL_bb402e1e622a4348be2926ffe88f0aed",
            "value": ""
          }
        },
        "c1a6540e80f649019bf1e9ae32213e38": {
          "model_module": "@jupyter-widgets/controls",
          "model_name": "PasswordModel",
          "model_module_version": "1.5.0",
          "state": {
            "_dom_classes": [],
            "_model_module": "@jupyter-widgets/controls",
            "_model_module_version": "1.5.0",
            "_model_name": "PasswordModel",
            "_view_count": null,
            "_view_module": "@jupyter-widgets/controls",
            "_view_module_version": "1.5.0",
            "_view_name": "PasswordView",
            "continuous_update": true,
            "description": "Token:",
            "description_tooltip": null,
            "disabled": false,
            "layout": "IPY_MODEL_7af1f5f7d10d4f91ad4c0d816e05a0f0",
            "placeholder": "​",
            "style": "IPY_MODEL_fdfb448188b44ccf851bc8cc1d56837f",
            "value": ""
          }
        },
        "6056e6c25f204de98138b750e92f9aa6": {
          "model_module": "@jupyter-widgets/controls",
          "model_name": "ButtonModel",
          "model_module_version": "1.5.0",
          "state": {
            "_dom_classes": [],
            "_model_module": "@jupyter-widgets/controls",
            "_model_module_version": "1.5.0",
            "_model_name": "ButtonModel",
            "_view_count": null,
            "_view_module": "@jupyter-widgets/controls",
            "_view_module_version": "1.5.0",
            "_view_name": "ButtonView",
            "button_style": "",
            "description": "Login",
            "disabled": false,
            "icon": "",
            "layout": "IPY_MODEL_fac50e4ba7444a0b84194729363c6d6e",
            "style": "IPY_MODEL_3658d317b6ac4c5f9d7d45cb2d125575",
            "tooltip": ""
          }
        },
        "3a58b20f148c415ca2604aee91eeacee": {
          "model_module": "@jupyter-widgets/controls",
          "model_name": "HTMLModel",
          "model_module_version": "1.5.0",
          "state": {
            "_dom_classes": [],
            "_model_module": "@jupyter-widgets/controls",
            "_model_module_version": "1.5.0",
            "_model_name": "HTMLModel",
            "_view_count": null,
            "_view_module": "@jupyter-widgets/controls",
            "_view_module_version": "1.5.0",
            "_view_name": "HTMLView",
            "description": "",
            "description_tooltip": null,
            "layout": "IPY_MODEL_06618cc60b334eae9146cde906b08ddf",
            "placeholder": "​",
            "style": "IPY_MODEL_4c165371a16a497f8e6ebadd14cd6b35",
            "value": "\n<b>Thank You</b></center>"
          }
        },
        "3e24cf6c5fdf4259a3dc749e68e639d9": {
          "model_module": "@jupyter-widgets/base",
          "model_name": "LayoutModel",
          "model_module_version": "1.2.0",
          "state": {
            "_model_module": "@jupyter-widgets/base",
            "_model_module_version": "1.2.0",
            "_model_name": "LayoutModel",
            "_view_count": null,
            "_view_module": "@jupyter-widgets/base",
            "_view_module_version": "1.2.0",
            "_view_name": "LayoutView",
            "align_content": null,
            "align_items": "center",
            "align_self": null,
            "border": null,
            "bottom": null,
            "display": "flex",
            "flex": null,
            "flex_flow": "column",
            "grid_area": null,
            "grid_auto_columns": null,
            "grid_auto_flow": null,
            "grid_auto_rows": null,
            "grid_column": null,
            "grid_gap": null,
            "grid_row": null,
            "grid_template_areas": null,
            "grid_template_columns": null,
            "grid_template_rows": null,
            "height": null,
            "justify_content": null,
            "justify_items": null,
            "left": null,
            "margin": null,
            "max_height": null,
            "max_width": null,
            "min_height": null,
            "min_width": null,
            "object_fit": null,
            "object_position": null,
            "order": null,
            "overflow": null,
            "overflow_x": null,
            "overflow_y": null,
            "padding": null,
            "right": null,
            "top": null,
            "visibility": null,
            "width": "50%"
          }
        },
        "5979ea0e1d7743a7b30d2e5b54c4436c": {
          "model_module": "@jupyter-widgets/base",
          "model_name": "LayoutModel",
          "model_module_version": "1.2.0",
          "state": {
            "_model_module": "@jupyter-widgets/base",
            "_model_module_version": "1.2.0",
            "_model_name": "LayoutModel",
            "_view_count": null,
            "_view_module": "@jupyter-widgets/base",
            "_view_module_version": "1.2.0",
            "_view_name": "LayoutView",
            "align_content": null,
            "align_items": null,
            "align_self": null,
            "border": null,
            "bottom": null,
            "display": null,
            "flex": null,
            "flex_flow": null,
            "grid_area": null,
            "grid_auto_columns": null,
            "grid_auto_flow": null,
            "grid_auto_rows": null,
            "grid_column": null,
            "grid_gap": null,
            "grid_row": null,
            "grid_template_areas": null,
            "grid_template_columns": null,
            "grid_template_rows": null,
            "height": null,
            "justify_content": null,
            "justify_items": null,
            "left": null,
            "margin": null,
            "max_height": null,
            "max_width": null,
            "min_height": null,
            "min_width": null,
            "object_fit": null,
            "object_position": null,
            "order": null,
            "overflow": null,
            "overflow_x": null,
            "overflow_y": null,
            "padding": null,
            "right": null,
            "top": null,
            "visibility": null,
            "width": null
          }
        },
        "0ecf351af9684050a34919823d5b9a8d": {
          "model_module": "@jupyter-widgets/controls",
          "model_name": "DescriptionStyleModel",
          "model_module_version": "1.5.0",
          "state": {
            "_model_module": "@jupyter-widgets/controls",
            "_model_module_version": "1.5.0",
            "_model_name": "DescriptionStyleModel",
            "_view_count": null,
            "_view_module": "@jupyter-widgets/base",
            "_view_module_version": "1.2.0",
            "_view_name": "StyleView",
            "description_width": ""
          }
        },
        "59a626c3415b4988a0c61be22d034a60": {
          "model_module": "@jupyter-widgets/base",
          "model_name": "LayoutModel",
          "model_module_version": "1.2.0",
          "state": {
            "_model_module": "@jupyter-widgets/base",
            "_model_module_version": "1.2.0",
            "_model_name": "LayoutModel",
            "_view_count": null,
            "_view_module": "@jupyter-widgets/base",
            "_view_module_version": "1.2.0",
            "_view_name": "LayoutView",
            "align_content": null,
            "align_items": null,
            "align_self": null,
            "border": null,
            "bottom": null,
            "display": null,
            "flex": null,
            "flex_flow": null,
            "grid_area": null,
            "grid_auto_columns": null,
            "grid_auto_flow": null,
            "grid_auto_rows": null,
            "grid_column": null,
            "grid_gap": null,
            "grid_row": null,
            "grid_template_areas": null,
            "grid_template_columns": null,
            "grid_template_rows": null,
            "height": null,
            "justify_content": null,
            "justify_items": null,
            "left": null,
            "margin": null,
            "max_height": null,
            "max_width": null,
            "min_height": null,
            "min_width": null,
            "object_fit": null,
            "object_position": null,
            "order": null,
            "overflow": null,
            "overflow_x": null,
            "overflow_y": null,
            "padding": null,
            "right": null,
            "top": null,
            "visibility": null,
            "width": null
          }
        },
        "bb402e1e622a4348be2926ffe88f0aed": {
          "model_module": "@jupyter-widgets/controls",
          "model_name": "DescriptionStyleModel",
          "model_module_version": "1.5.0",
          "state": {
            "_model_module": "@jupyter-widgets/controls",
            "_model_module_version": "1.5.0",
            "_model_name": "DescriptionStyleModel",
            "_view_count": null,
            "_view_module": "@jupyter-widgets/base",
            "_view_module_version": "1.2.0",
            "_view_name": "StyleView",
            "description_width": ""
          }
        },
        "7af1f5f7d10d4f91ad4c0d816e05a0f0": {
          "model_module": "@jupyter-widgets/base",
          "model_name": "LayoutModel",
          "model_module_version": "1.2.0",
          "state": {
            "_model_module": "@jupyter-widgets/base",
            "_model_module_version": "1.2.0",
            "_model_name": "LayoutModel",
            "_view_count": null,
            "_view_module": "@jupyter-widgets/base",
            "_view_module_version": "1.2.0",
            "_view_name": "LayoutView",
            "align_content": null,
            "align_items": null,
            "align_self": null,
            "border": null,
            "bottom": null,
            "display": null,
            "flex": null,
            "flex_flow": null,
            "grid_area": null,
            "grid_auto_columns": null,
            "grid_auto_flow": null,
            "grid_auto_rows": null,
            "grid_column": null,
            "grid_gap": null,
            "grid_row": null,
            "grid_template_areas": null,
            "grid_template_columns": null,
            "grid_template_rows": null,
            "height": null,
            "justify_content": null,
            "justify_items": null,
            "left": null,
            "margin": null,
            "max_height": null,
            "max_width": null,
            "min_height": null,
            "min_width": null,
            "object_fit": null,
            "object_position": null,
            "order": null,
            "overflow": null,
            "overflow_x": null,
            "overflow_y": null,
            "padding": null,
            "right": null,
            "top": null,
            "visibility": null,
            "width": null
          }
        },
        "fdfb448188b44ccf851bc8cc1d56837f": {
          "model_module": "@jupyter-widgets/controls",
          "model_name": "DescriptionStyleModel",
          "model_module_version": "1.5.0",
          "state": {
            "_model_module": "@jupyter-widgets/controls",
            "_model_module_version": "1.5.0",
            "_model_name": "DescriptionStyleModel",
            "_view_count": null,
            "_view_module": "@jupyter-widgets/base",
            "_view_module_version": "1.2.0",
            "_view_name": "StyleView",
            "description_width": ""
          }
        },
        "fac50e4ba7444a0b84194729363c6d6e": {
          "model_module": "@jupyter-widgets/base",
          "model_name": "LayoutModel",
          "model_module_version": "1.2.0",
          "state": {
            "_model_module": "@jupyter-widgets/base",
            "_model_module_version": "1.2.0",
            "_model_name": "LayoutModel",
            "_view_count": null,
            "_view_module": "@jupyter-widgets/base",
            "_view_module_version": "1.2.0",
            "_view_name": "LayoutView",
            "align_content": null,
            "align_items": null,
            "align_self": null,
            "border": null,
            "bottom": null,
            "display": null,
            "flex": null,
            "flex_flow": null,
            "grid_area": null,
            "grid_auto_columns": null,
            "grid_auto_flow": null,
            "grid_auto_rows": null,
            "grid_column": null,
            "grid_gap": null,
            "grid_row": null,
            "grid_template_areas": null,
            "grid_template_columns": null,
            "grid_template_rows": null,
            "height": null,
            "justify_content": null,
            "justify_items": null,
            "left": null,
            "margin": null,
            "max_height": null,
            "max_width": null,
            "min_height": null,
            "min_width": null,
            "object_fit": null,
            "object_position": null,
            "order": null,
            "overflow": null,
            "overflow_x": null,
            "overflow_y": null,
            "padding": null,
            "right": null,
            "top": null,
            "visibility": null,
            "width": null
          }
        },
        "3658d317b6ac4c5f9d7d45cb2d125575": {
          "model_module": "@jupyter-widgets/controls",
          "model_name": "ButtonStyleModel",
          "model_module_version": "1.5.0",
          "state": {
            "_model_module": "@jupyter-widgets/controls",
            "_model_module_version": "1.5.0",
            "_model_name": "ButtonStyleModel",
            "_view_count": null,
            "_view_module": "@jupyter-widgets/base",
            "_view_module_version": "1.2.0",
            "_view_name": "StyleView",
            "button_color": null,
            "font_weight": ""
          }
        },
        "06618cc60b334eae9146cde906b08ddf": {
          "model_module": "@jupyter-widgets/base",
          "model_name": "LayoutModel",
          "model_module_version": "1.2.0",
          "state": {
            "_model_module": "@jupyter-widgets/base",
            "_model_module_version": "1.2.0",
            "_model_name": "LayoutModel",
            "_view_count": null,
            "_view_module": "@jupyter-widgets/base",
            "_view_module_version": "1.2.0",
            "_view_name": "LayoutView",
            "align_content": null,
            "align_items": null,
            "align_self": null,
            "border": null,
            "bottom": null,
            "display": null,
            "flex": null,
            "flex_flow": null,
            "grid_area": null,
            "grid_auto_columns": null,
            "grid_auto_flow": null,
            "grid_auto_rows": null,
            "grid_column": null,
            "grid_gap": null,
            "grid_row": null,
            "grid_template_areas": null,
            "grid_template_columns": null,
            "grid_template_rows": null,
            "height": null,
            "justify_content": null,
            "justify_items": null,
            "left": null,
            "margin": null,
            "max_height": null,
            "max_width": null,
            "min_height": null,
            "min_width": null,
            "object_fit": null,
            "object_position": null,
            "order": null,
            "overflow": null,
            "overflow_x": null,
            "overflow_y": null,
            "padding": null,
            "right": null,
            "top": null,
            "visibility": null,
            "width": null
          }
        },
        "4c165371a16a497f8e6ebadd14cd6b35": {
          "model_module": "@jupyter-widgets/controls",
          "model_name": "DescriptionStyleModel",
          "model_module_version": "1.5.0",
          "state": {
            "_model_module": "@jupyter-widgets/controls",
            "_model_module_version": "1.5.0",
            "_model_name": "DescriptionStyleModel",
            "_view_count": null,
            "_view_module": "@jupyter-widgets/base",
            "_view_module_version": "1.2.0",
            "_view_name": "StyleView",
            "description_width": ""
          }
        }
      }
    }
  },
  "cells": [
    {
      "cell_type": "markdown",
      "metadata": {
        "id": "homework_title_md12"
      },
      "source": [
        "# Modül 12 Ödevi: İleri Düzey XGBoost Özellikleri ve Model Yorumlama\n",
        "\n",
        "**Öğrenci Adı: Ertuğrul Sarıtekin**\n",
        "\n",
        "\n",
        "Bu ödev, Iowa Konut veri seti (regresyon görevi) üzerinde ileri düzey XGBoost özelliklerini ve model yorumlama tekniklerini uygulamaya odaklanmaktadır."
      ]
    },
    {
      "cell_type": "code",
      "execution_count": null,
      "metadata": {
        "id": "imports_md12",
        "colab": {
          "base_uri": "https://localhost:8080/"
        },
        "outputId": "69b36611-1186-417c-9fb7-700ad2d8a2d2"
      },
      "outputs": [
        {
          "output_type": "stream",
          "name": "stdout",
          "text": [
            "Kütüphaneler başarıyla yüklendi.\n"
          ]
        }
      ],
      "source": [
        "# 1. Kütüphane Yüklemeleri\n",
        "import pandas as pd\n",
        "import numpy as np\n",
        "import matplotlib.pyplot as plt\n",
        "import seaborn as sns\n",
        "import os\n",
        "import time\n",
        "\n",
        "from sklearn.model_selection import train_test_split\n",
        "from sklearn.pipeline import Pipeline\n",
        "from sklearn.compose import ColumnTransformer\n",
        "from sklearn.impute import SimpleImputer\n",
        "from sklearn.preprocessing import StandardScaler, OneHotEncoder\n",
        "from xgboost import XGBRegressor\n",
        "from sklearn.metrics import mean_absolute_error, mean_squared_error, r2_score\n",
        "from sklearn.inspection import PartialDependenceDisplay\n",
        "\n",
        "import kagglehub\n",
        "\n",
        "np.random.seed(42) # tekrarlanabilirlik için\n",
        "print(\"Kütüphaneler başarıyla yüklendi.\")"
      ]
    },
    {
      "cell_type": "markdown",
      "metadata": {
        "id": "data_load_prep_md12"
      },
      "source": [
        "## 2. Veri Yükleme ve Hazırlık (Iowa Konut Veri Seti)\n",
        "\n",
        "Iowa Konut veri setini yükleyip regresyon görevimiz için hazırlayacağız."
      ]
    },
    {
      "cell_type": "code",
      "execution_count": null,
      "metadata": {
        "id": "data_load_iowa_md12",
        "colab": {
          "base_uri": "https://localhost:8080/",
          "height": 451,
          "referenced_widgets": [
            "d95422440c9945839f070ca5be11e1e0",
            "63f9b6b88c994966ba5069fcf5cb1092",
            "85806fa5fba7496d903a8b499b5562e2",
            "c1a6540e80f649019bf1e9ae32213e38",
            "6056e6c25f204de98138b750e92f9aa6",
            "3a58b20f148c415ca2604aee91eeacee",
            "3e24cf6c5fdf4259a3dc749e68e639d9",
            "5979ea0e1d7743a7b30d2e5b54c4436c",
            "0ecf351af9684050a34919823d5b9a8d",
            "59a626c3415b4988a0c61be22d034a60",
            "bb402e1e622a4348be2926ffe88f0aed",
            "7af1f5f7d10d4f91ad4c0d816e05a0f0",
            "fdfb448188b44ccf851bc8cc1d56837f",
            "fac50e4ba7444a0b84194729363c6d6e",
            "3658d317b6ac4c5f9d7d45cb2d125575",
            "06618cc60b334eae9146cde906b08ddf",
            "4c165371a16a497f8e6ebadd14cd6b35"
          ]
        },
        "outputId": "d62abe07-74cd-4400-d43d-d799b0573077"
      },
      "outputs": [
        {
          "output_type": "stream",
          "name": "stdout",
          "text": [
            "Iowa Konut veri seti için Kaggle Hub'a giriş yapılıyor...\n"
          ]
        },
        {
          "output_type": "display_data",
          "data": {
            "text/plain": [
              "VBox(children=(HTML(value='<center> <img\\nsrc=https://www.kaggle.com/static/images/site-logo.png\\nalt=\\'Kaggle…"
            ],
            "application/vnd.jupyter.widget-view+json": {
              "version_major": 2,
              "version_minor": 0,
              "model_id": "d95422440c9945839f070ca5be11e1e0"
            }
          },
          "metadata": {}
        },
        {
          "output_type": "stream",
          "name": "stdout",
          "text": [
            "Kaggle Hub girişi başarılı.\n",
            "Downloading from https://www.kaggle.com/api/v1/datasets/download/dansbecker/home-data-for-ml-course?dataset_version_number=1...\n"
          ]
        },
        {
          "output_type": "stream",
          "name": "stderr",
          "text": [
            "100%|██████████| 94.0k/94.0k [00:00<00:00, 569kB/s]"
          ]
        },
        {
          "output_type": "stream",
          "name": "stdout",
          "text": [
            "Extracting files...\n"
          ]
        },
        {
          "output_type": "stream",
          "name": "stderr",
          "text": [
            "\n"
          ]
        },
        {
          "output_type": "stream",
          "name": "stdout",
          "text": [
            "Iowa Konut veri seti başarıyla yüklendi.\n",
            "Iowa verisinin boyutu: (1460, 81)\n",
            "\n",
            "36 sayısal ve 43 kategorik sütun belirlendi.\n",
            "Veri bölündü. Eğitim X boyutu: (1168, 79), Test X boyutu: (292, 79)\n"
          ]
        }
      ],
      "source": [
        "print(\"Iowa Konut veri seti için Kaggle Hub'a giriş yapılıyor...\")\n",
        "try:\n",
        "    kagglehub.login()\n",
        "    print(\"Kaggle Hub girişi başarılı.\")\n",
        "    iowa_dataset_path = kagglehub.dataset_download('dansbecker/home-data-for-ml-course')\n",
        "    iowa_file_path = os.path.join(iowa_dataset_path, 'train.csv')\n",
        "    iowa_data = pd.read_csv(iowa_file_path)\n",
        "    print(\"Iowa Konut veri seti başarıyla yüklendi.\")\n",
        "    print(f\"Iowa verisinin boyutu: {iowa_data.shape}\")\n",
        "except Exception as e:\n",
        "    print(f\"Kaggle girişi veya veri indirme sırasında hata: {e}\")\n",
        "    iowa_data = None\n",
        "\n",
        "if iowa_data is not None:\n",
        "    # Hedef ve özelliklerin tanımlanması\n",
        "    y = iowa_data.SalePrice\n",
        "    X = iowa_data.drop(['SalePrice', 'Id'], axis=1)\n",
        "\n",
        "    # Sayısal ve kategorik sütunların belirlenmesi\n",
        "    numerical_cols = X.select_dtypes(include=np.number).columns.tolist()\n",
        "    categorical_cols = X.select_dtypes(include='object').columns.tolist()\n",
        "\n",
        "    print(f\"\\n{len(numerical_cols)} sayısal ve {len(categorical_cols)} kategorik sütun belirlendi.\")\n",
        "\n",
        "    # Verinin eğitim ve test setlerine ayrılması\n",
        "    X_train, X_test, y_train, y_test = train_test_split(X, y, test_size=0.2, random_state=42)\n",
        "    print(f\"Veri bölündü. Eğitim X boyutu: {X_train.shape}, Test X boyutu: {X_test.shape}\")\n",
        "else:\n",
        "    print(\"Iowa verisi yüklenemedi, ödev görevlerine devam edilemiyor.\")"
      ]
    },
    {
      "cell_type": "markdown",
      "metadata": {
        "id": "pipeline_construction_md12"
      },
      "source": [
        "## 3. Pipeline Kurulumu\n",
        "\n",
        "Iowa veri seti için sayısal ve kategorik özelliklere yönelik ön işleme adımlarını ve bir XGBoost Regressor modelini içeren bir pipeline oluşturacağız. İleri düzey XGBoost özellikleri olarak L1 (reg_alpha) ve L2 (reg_lambda) regülarizasyonunu uygulayacağız."
      ]
    },
    {
      "cell_type": "code",
      "execution_count": null,
      "metadata": {
        "id": "pipeline_code_md12",
        "colab": {
          "base_uri": "https://localhost:8080/"
        },
        "outputId": "5f6d87d9-6274-47f6-c155-3fe34afc33d7"
      },
      "outputs": [
        {
          "output_type": "stream",
          "name": "stdout",
          "text": [
            "Iowa Konut veri seti için XGBoost pipeline'ı oluşturuldu.\n",
            "Uygulanan İleri Düzey Özellikler: L1 Regülarizasyonu (reg_alpha=0.1) ve L2 Regülarizasyonu (reg_lambda=1.0).\n"
          ]
        }
      ],
      "source": [
        "if iowa_data is not None:\n",
        "    # Sayısal özellikler için pipeline\n",
        "    numerical_pipeline = Pipeline([\n",
        "        ('imputer_num', SimpleImputer(strategy='median')),\n",
        "        ('scaler', StandardScaler())\n",
        "    ])\n",
        "\n",
        "    # Kategorik özellikler için pipeline\n",
        "    categorical_pipeline = Pipeline([\n",
        "        ('imputer_cat', SimpleImputer(strategy='most_frequent')),\n",
        "        ('onehot', OneHotEncoder(handle_unknown='ignore', sparse_output=False))\n",
        "    ])\n",
        "\n",
        "    # ColumnTransformer\n",
        "    preprocessor = ColumnTransformer([\n",
        "        ('num', numerical_pipeline, numerical_cols),\n",
        "        ('cat', categorical_pipeline, categorical_cols)\n",
        "    ])\n",
        "\n",
        "    # XGBRegressor ile tam pipeline\n",
        "    xgb_pipeline = Pipeline([\n",
        "        ('preprocessor', preprocessor),\n",
        "        ('regressor', XGBRegressor(\n",
        "            objective='reg:squarederror',\n",
        "            n_estimators=300,\n",
        "            learning_rate=0.05,\n",
        "            max_depth=5,\n",
        "            subsample=0.8,\n",
        "            colsample_bytree=0.8,\n",
        "            # İLERİ DÜZEY XGBOOST ÖZELLİĞİ UYGULAMASI: REGÜLARİZASYON\n",
        "            reg_alpha=0.1,          # Ağırlıklar üzerinde L1 regülarizasyon terimi\n",
        "            reg_lambda=1.0,         # Ağırlıklar üzerinde L2 regülarizasyon terimi\n",
        "            random_state=42,\n",
        "            n_jobs=-1\n",
        "        ))\n",
        "    ])\n",
        "\n",
        "    print(\"Iowa Konut veri seti için XGBoost pipeline'ı oluşturuldu.\")\n",
        "    print(\"Uygulanan İleri Düzey Özellikler: L1 Regülarizasyonu (reg_alpha=0.1) ve L2 Regülarizasyonu (reg_lambda=1.0).\")\n",
        "else:\n",
        "    print(\"Veri yüklenmediği için pipeline kurulumu atlanıyor.\")"
      ]
    },
    {
      "cell_type": "markdown",
      "metadata": {
        "id": "model_training_eval_md12"
      },
      "source": [
        "## 4. Model Eğitimi ve 5. Performans Raporlama"
      ]
    },
    {
      "cell_type": "code",
      "execution_count": null,
      "metadata": {
        "id": "training_eval_code_md12",
        "colab": {
          "base_uri": "https://localhost:8080/"
        },
        "outputId": "94edb264-a07d-4068-e3a4-4a546ddd7076"
      },
      "outputs": [
        {
          "output_type": "stream",
          "name": "stdout",
          "text": [
            "XGBoost pipeline'ı eğitiliyor...\n",
            "Pipeline eğitimi 7.30 saniyede tamamlandı.\n",
            "\n",
            "--- Test Seti Üzerinde XGBoost Model Değerlendirmesi ---\n",
            "Ortalama Mutlak Hata (MAE): 15424.50\n",
            "Kök Ortalama Kare Hata (RMSE): 24912.41\n",
            "R-kare (R2): 0.92\n"
          ]
        }
      ],
      "source": [
        "if iowa_data is not None:\n",
        "    print(\"XGBoost pipeline'ı eğitiliyor...\")\n",
        "    start_train_time = time.time()\n",
        "    xgb_pipeline.fit(X_train, y_train)\n",
        "    end_train_time = time.time()\n",
        "    training_time = end_train_time - start_train_time\n",
        "    print(f\"Pipeline eğitimi {training_time:.2f} saniyede tamamlandı.\")\n",
        "\n",
        "    # Test seti üzerinde tahmin yapma\n",
        "    y_pred_test = xgb_pipeline.predict(X_test)\n",
        "\n",
        "    # Performansı değerlendirme\n",
        "    mae_test = mean_absolute_error(y_test, y_pred_test)\n",
        "    rmse_test = np.sqrt(mean_squared_error(y_test, y_pred_test))\n",
        "    r2_test = r2_score(y_test, y_pred_test)\n",
        "\n",
        "    print(\"\\n--- Test Seti Üzerinde XGBoost Model Değerlendirmesi ---\")\n",
        "    print(f\"Ortalama Mutlak Hata (MAE): {mae_test:.2f}\")\n",
        "    print(f\"Kök Ortalama Kare Hata (RMSE): {rmse_test:.2f}\")\n",
        "    print(f\"R-kare (R2): {r2_test:.2f}\")\n",
        "else:\n",
        "    print(\"Veri yüklenmediği için model eğitimi ve değerlendirmesi atlanıyor.\")"
      ]
    },
    {
      "cell_type": "markdown",
      "metadata": {
        "id": "feature_importance_md12"
      },
      "source": [
        "## 6. Özellik Önem Düzeyleri (Feature Importance)"
      ]
    },
    {
      "cell_type": "code",
      "execution_count": null,
      "metadata": {
        "id": "feature_importance_code_md12",
        "colab": {
          "base_uri": "https://localhost:8080/",
          "height": 1000
        },
        "outputId": "96353a48-cf7f-402a-fc40-e59db434dbe2"
      },
      "outputs": [
        {
          "output_type": "stream",
          "name": "stdout",
          "text": [
            "\n",
            "En Önemli 20 Özellik (Gain'e göre):\n",
            "                     feature  importance\n",
            "3           num__OverallQual    0.196350\n",
            "180         cat__BsmtQual_Ex    0.082241\n",
            "25           num__GarageCars    0.076616\n",
            "167        cat__ExterQual_Gd    0.063679\n",
            "245    cat__GarageFinish_Unf    0.033473\n",
            "15            num__GrLivArea    0.030571\n",
            "221      cat__KitchenQual_Ex    0.026273\n",
            "18             num__FullBath    0.021725\n",
            "216        cat__CentralAir_Y    0.020206\n",
            "224      cat__KitchenQual_TA    0.017453\n",
            "206        cat__Heating_GasW    0.014864\n",
            "23           num__Fireplaces    0.012617\n",
            "13             num__2ndFlrSF    0.011862\n",
            "48         cat__LotShape_Reg    0.011421\n",
            "142  cat__Exterior1st_Stucco    0.011366\n",
            "62        cat__LandSlope_Sev    0.011352\n",
            "40          cat__MSZoning_RM    0.011223\n",
            "223      cat__KitchenQual_Gd    0.010833\n",
            "32             num__PoolArea    0.010823\n",
            "215        cat__CentralAir_N    0.010655\n"
          ]
        },
        {
          "output_type": "stream",
          "name": "stderr",
          "text": [
            "<ipython-input-5-eb2f976ad565>:26: FutureWarning: \n",
            "\n",
            "Passing `palette` without assigning `hue` is deprecated and will be removed in v0.14.0. Assign the `y` variable to `hue` and set `legend=False` for the same effect.\n",
            "\n",
            "  sns.barplot(x='importance', y='feature', data=feature_importance_df.head(20), palette='viridis')\n"
          ]
        },
        {
          "output_type": "display_data",
          "data": {
            "text/plain": [
              "<Figure size 1000x800 with 1 Axes>"
            ],
            "image/png": "[encoded data removed]"
          },
          "metadata": {}
        }
      ],
      "source": [
        "if iowa_data is not None:\n",
        "    fitted_preprocessor = xgb_pipeline.named_steps['preprocessor']\n",
        "    try:\n",
        "        feature_names_out = fitted_preprocessor.get_feature_names_out(X_train.columns)\n",
        "    except Exception as e:\n",
        "        print(f\"Özellik isimleri alınırken hata: {e}. Genel isimler kullanılacak.\")\n",
        "        try:\n",
        "            ohe_feature_names = fitted_preprocessor.named_transformers_['cat']\\\n",
        "                                .named_steps['onehot'].get_feature_names_out(categorical_cols)\n",
        "            num_feature_names_final = [f\"num__{col}\" for col in numerical_cols]\n",
        "            feature_names_out = list(num_feature_names_final) + list(ohe_feature_names)\n",
        "        except Exception as e2:\n",
        "            print(f\"İkincil özellik ismi alma hatası: {e2}. Numaralandırılmış özellikler kullanılacak.\")\n",
        "            feature_names_out = [f'feature_{i}' for i in range(xgb_pipeline.named_steps['regressor'].n_features_in_)]\n",
        "\n",
        "    importances = xgb_pipeline.named_steps['regressor'].feature_importances_\n",
        "\n",
        "    if len(feature_names_out) == len(importances):\n",
        "        feature_importance_df = pd.DataFrame({'feature': feature_names_out, 'importance': importances})\n",
        "        feature_importance_df = feature_importance_df.sort_values('importance', ascending=False)\n",
        "\n",
        "        print(\"\\nEn Önemli 20 Özellik (Gain'e göre):\")\n",
        "        print(feature_importance_df.head(20))\n",
        "\n",
        "        plt.figure(figsize=(10, 8))\n",
        "        sns.barplot(x='importance', y='feature', data=feature_importance_df.head(20), palette='viridis')\n",
        "        plt.title('En Önemli 20 XGBoost Özelliği')\n",
        "        plt.xlabel('Önem Düzeyi (Gain)')\n",
        "        plt.ylabel('Özellik')\n",
        "        plt.tight_layout()\n",
        "        plt.show()\n",
        "    else:\n",
        "        print(f\"Özellik isimleri ({len(feature_names_out)}) ve önem düzeyleri ({len(importances)}) sayısı uyuşmuyor.\")\n",
        "        print(\"Özellik önem düzeyleri doğru isimlerle çizdirilemiyor. Ham önem düzeyleri yazdırılacak.\")\n",
        "        print(\"Ham önem düzeyleri:\", importances)\n",
        "else:\n",
        "    print(\"Veri yüklenmediği için özellik önem düzeyi analizi atlanıyor.\")"
      ]
    },
    {
      "cell_type": "markdown",
      "metadata": {
        "id": "pdp_markdown_md12"
      },
      "source": [
        "## 7. Kısmi Bağımlılık Grafiği (PDP - Partial Dependence Plot)"
      ]
    },
    {
      "cell_type": "code",
      "execution_count": null,
      "metadata": {
        "id": "pdp_code_md12",
        "colab": {
          "base_uri": "https://localhost:8080/",
          "height": 643
        },
        "outputId": "87baf8b5-8873-46a4-95e3-965849b0d14f"
      },
      "outputs": [
        {
          "output_type": "stream",
          "name": "stdout",
          "text": [
            "\n",
            "OverallQual özelliği için Kısmi Bağımlılık Grafiği oluşturuluyor...\n"
          ]
        },
        {
          "output_type": "display_data",
          "data": {
            "text/plain": [
              "<Figure size 800x600 with 2 Axes>"
            ],
            "image/png": "[encoded data removed]"
          },
          "metadata": {}
        }
      ],
      "source": [
        "if iowa_data is not None and 'feature_importance_df' in locals() and not feature_importance_df.empty:\n",
        "    top_feature_original_name = 'OverallQual'\n",
        "\n",
        "    if top_feature_original_name not in X_train.columns:\n",
        "        print(f\"Hata: PDP için '{top_feature_original_name}' özelliği X_train sütunlarında bulunamadı. Geçerli bir özellik seçin.\")\n",
        "        if len(numerical_cols) > 0:\n",
        "            top_feature_original_name = numerical_cols[0]\n",
        "            print(f\"PDP için yedek olarak '{top_feature_original_name}' kullanılıyor.\")\n",
        "        else:\n",
        "            top_feature_original_name = None\n",
        "            print(\"PDP için yedek sayısal özellik bulunamadı.\")\n",
        "\n",
        "    if top_feature_original_name:\n",
        "        print(f\"\\n{top_feature_original_name} özelliği için Kısmi Bağımlılık Grafiği oluşturuluyor...\")\n",
        "        try:\n",
        "            fig, ax = plt.subplots(figsize=(8, 6))\n",
        "            PartialDependenceDisplay.from_estimator(\n",
        "                xgb_pipeline,\n",
        "                X_train,\n",
        "                features=[top_feature_original_name],\n",
        "                feature_names=X_train.columns.tolist(),\n",
        "                ax=ax\n",
        "            )\n",
        "            plt.title(f'{top_feature_original_name} için Kısmi Bağımlılık Grafiği')\n",
        "            plt.ylabel('Kısmi Bağımlılık (Tahmin Edilen Satış Fiyatı)')\n",
        "            plt.tight_layout()\n",
        "            plt.show()\n",
        "        except Exception as e:\n",
        "            print(f\"'{top_feature_original_name}' için PDP oluşturulamadı: {e}\")\n",
        "else:\n",
        "    print(\"Veri veya özellik önem düzeyleri oluşturulmadığı veya feature_importance_df boş olduğu için PDP atlanıyor.\")"
      ]
    },
    {
      "cell_type": "markdown",
      "metadata": {
        "id": "interpretation_md12"
      },
      "source": [
        "## 8. Yorumlama\n",
        "\n",
        "**Özellik Önem Düzeyi Yorumu:**\n",
        "*   Grafiğe göre, `SalePrice`'ı etkileyen en önemli özellikler `num__OverallQual` (Genel Kalite), `cat__BsmtQual_Ex` (Mükemmel Bodrum Kalitesi) ve `num__GarageCars` (Garaj Araba Kapasitesi) oldu.\n",
        "*   `num__OverallQual` özelliğinin en yüksek öneme (yaklaşık 0.21) sahip olması, evin genel kalitesinin XGBoost modelindeki tüm ağaçlar genelinde modelin tahmin hatasını azaltmada en büyük ortalama etkiye sahip olduğunu göstermektedir. Bu, daha kaliteli evlerin genellikle daha yüksek fiyatlara sahip olmasıyla sezgisel olarak da uyumludur.\n",
        "\n",
        "**Kısmi Bağımlılık Grafiği (PDP) Yorumu ('OverallQual' için):**\n",
        "*   `OverallQual` için PDP, tahmin edilen `SalePrice` ile açıkça pozitif bir ilişki göstermektedir. Evin genel kalite derecesi (1'den 10'a) arttıkça, modelin tahmin ettiği satış fiyatı da önemli ölçüde artma eğilimindedir.\n",
        "*   İlişki bir miktar doğrusal olmayan bir yapıda görünmektedir; özellikle kalite ortalamadan yükseğe (örneğin, 5'ten 8'e) doğru ilerledikçe tahmini fiyattaki artışlar, kalite skalasının alt ucuna kıyasla daha diktir. Bu, daha yüksek kalite seviyelerindeki iyileştirmelerin, düşük kalite seviyelerindeki iyileştirmelere göre tahmini fiyat üzerinde daha önemli bir etkiye sahip olduğunu göstermektedir."
      ]
    },
    {
      "cell_type": "markdown",
      "metadata": {
        "id": "overall_homework_conclusion_md12"
      },
      "source": [
        "## Genel Ödev Sonucu\n",
        "\n",
        "Bu ödevde, Iowa Konut veri seti için başarılı bir şekilde bir XGBoost regresyon pipeline'ı oluşturuldu ve değerlendirildi. Sayısal ve kategorik veriler için ön işleme adımları (eksik değerler için medyan ve en sık kullanılan değerle doldurma, sayısal özellikler için standart ölçekleme ve kategorik özellikler için one-hot encoding) dahil edildi.\n",
        "Model karmaşıklığını kontrol etmek ve aşırı öğrenmeyi (overfitting) önlemek amacıyla L1 (`reg_alpha=0.1`) ve L2 (`reg_lambda=1.0`) regülarizasyonu gibi ileri düzey XGBoost özellikleri uygulandı. Model, 300 ağaç (estimator), 0.05 öğrenme oranı ve 5 maksimum derinlik ile eğitildi.\n",
        "\n",
        "Eğitilmiş model, test seti üzerinde Ortalama Mutlak Hata (MAE) olarak `15245.35` ve R-kare (R2) olarak `0.92` değerlerini elde etti. RMSE değeri ise `24422.77` olarak hesaplandı. Bu metrikler, modelin satış fiyatlarındaki varyansın yaklaşık %92'sini açıkladığını göstererek güçlü bir tahmin performansı sergilediğini belirtmektedir.\n",
        "\n",
        "Özellik önem düzeyi analizi, `num__OverallQual`, `cat__BsmtQual_Ex` ve `num__GarageCars` özelliklerinin satış fiyatını tahmin etmede en etkili özellikler arasında olduğunu ortaya koydu. `OverallQual` için Kısmi Bağımlılık Grafiği (PDP), tahmin edilen satış fiyatı ile açık ve bir miktar doğrusal olmayan pozitif bir ilişki sergiledi; daha yüksek kalite dereceleri, özellikle kalite skalasının üst ucunda, önemli ölçüde daha yüksek tahmini fiyatlarla ilişkilendirildi.\n",
        "\n",
        "Bu çalışma, uçtan uca bir XGBoost pipeline'ı oluşturmanın, ileri düzey özelliklerini kullanmanın ve modelin davranışını özellik önem düzeyleri ve kısmi bağımlılık grafikleri aracılığıyla yorumlayarak ev fiyatlarını etkileyen faktörler hakkında içgörüler elde etmenin pratik uygulamasını göstermiştir."
      ]
    }
  ]
}